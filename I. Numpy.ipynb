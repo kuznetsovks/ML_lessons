{
 "cells": [
  {
   "cell_type": "markdown",
   "id": "75038507",
   "metadata": {},
   "source": [
    "# Библиотека Numpy"
   ]
  },
  {
   "cell_type": "markdown",
   "id": "b8288c3b",
   "metadata": {},
   "source": [
    "### Подключение библиотеки"
   ]
  },
  {
   "cell_type": "code",
   "execution_count": 16,
   "id": "45440c3f",
   "metadata": {},
   "outputs": [],
   "source": [
    "import numpy as np"
   ]
  },
  {
   "cell_type": "markdown",
   "id": "38ea1472",
   "metadata": {},
   "source": [
    "### Создание массива размерностью 2x3"
   ]
  },
  {
   "cell_type": "code",
   "execution_count": 4,
   "id": "c93de0f7",
   "metadata": {},
   "outputs": [
    {
     "data": {
      "text/plain": [
       "array([[1, 2, 3],\n",
       "       [2, 3, 1]])"
      ]
     },
     "execution_count": 4,
     "metadata": {},
     "output_type": "execute_result"
    }
   ],
   "source": [
    "a = np.array([\n",
    "    [1, 2, 3],\n",
    "    [2,3,1]\n",
    "    ])\n",
    "a"
   ]
  },
  {
   "cell_type": "markdown",
   "id": "d4d03390",
   "metadata": {},
   "source": [
    "### Вывести форму (shape), длинну массива (в данном случае число массивов внутри массива) (len) и количество элементов в массиве"
   ]
  },
  {
   "cell_type": "code",
   "execution_count": 6,
   "id": "8f28cdbd",
   "metadata": {},
   "outputs": [
    {
     "name": "stdout",
     "output_type": "stream",
     "text": [
      "(2, 3)\n",
      "2\n",
      "6\n"
     ]
    }
   ],
   "source": [
    "print( a.shape )\n",
    "print( len(a) )\n",
    "print( a.size )"
   ]
  },
  {
   "cell_type": "markdown",
   "id": "e39dbcd9",
   "metadata": {},
   "source": [
    "### Создание массива нулей и единиц заданной размерности"
   ]
  },
  {
   "cell_type": "code",
   "execution_count": 7,
   "id": "2cf08f4f",
   "metadata": {},
   "outputs": [
    {
     "name": "stdout",
     "output_type": "stream",
     "text": [
      "[[0. 0. 0. 0. 0.]\n",
      " [0. 0. 0. 0. 0.]\n",
      " [0. 0. 0. 0. 0.]]\n",
      "\n",
      "[[1. 1. 1. 1. 1.]\n",
      " [1. 1. 1. 1. 1.]\n",
      " [1. 1. 1. 1. 1.]]\n"
     ]
    }
   ],
   "source": [
    "b = np.zeros((3, 5))\n",
    "print(b)\n",
    "\n",
    "print()\n",
    "\n",
    "c = np.ones((3, 5))\n",
    "print(c)"
   ]
  },
  {
   "cell_type": "markdown",
   "id": "a88aff89",
   "metadata": {},
   "source": [
    "### Создание массива элементов в пределе a,b с шагом c"
   ]
  },
  {
   "cell_type": "code",
   "execution_count": null,
   "id": "cdfb54d7",
   "metadata": {},
   "outputs": [],
   "source": [
    "c = np.arange(0, 1, 0.1)\n",
    "c"
   ]
  },
  {
   "cell_type": "markdown",
   "id": "c8c0c220",
   "metadata": {},
   "source": [
    "###  Создание массива из c  элементов равномерно распределенных чисел в пределах a,b "
   ]
  },
  {
   "cell_type": "code",
   "execution_count": 9,
   "id": "b1be5b8b",
   "metadata": {},
   "outputs": [
    {
     "data": {
      "text/plain": [
       "array([1.  , 1.25, 1.5 , 1.75, 2.  ])"
      ]
     },
     "execution_count": 9,
     "metadata": {},
     "output_type": "execute_result"
    }
   ],
   "source": [
    "c = np.linspace(1, 2, 5)\n",
    "c"
   ]
  },
  {
   "cell_type": "markdown",
   "id": "05a2c8c7",
   "metadata": {},
   "source": [
    "### Создание массива при помощи функции"
   ]
  },
  {
   "cell_type": "code",
   "execution_count": 12,
   "id": "5c6c7831",
   "metadata": {},
   "outputs": [
    {
     "data": {
      "text/plain": [
       "array([[0., 1., 2., 3.],\n",
       "       [3., 4., 5., 6.],\n",
       "       [6., 7., 8., 9.]])"
      ]
     },
     "execution_count": 12,
     "metadata": {},
     "output_type": "execute_result"
    }
   ],
   "source": [
    "def f1(i, j):\n",
    "     return 3 * i + j\n",
    "\n",
    "a = np.fromfunction(f1, (3, 4))\n",
    "a"
   ]
  },
  {
   "cell_type": "markdown",
   "id": "b8807ce2",
   "metadata": {},
   "source": [
    "### Тип элементов массива"
   ]
  },
  {
   "cell_type": "code",
   "execution_count": 18,
   "id": "2b3122aa",
   "metadata": {},
   "outputs": [
    {
     "data": {
      "text/plain": [
       "(dtype('float64'), 'float64')"
      ]
     },
     "execution_count": 18,
     "metadata": {},
     "output_type": "execute_result"
    }
   ],
   "source": [
    "a.dtype, a.dtype.name"
   ]
  },
  {
   "cell_type": "markdown",
   "id": "2c64c2a9",
   "metadata": {},
   "source": [
    "### Перевод элементов массива в другой тип"
   ]
  },
  {
   "cell_type": "code",
   "execution_count": 20,
   "id": "16fd4319",
   "metadata": {},
   "outputs": [
    {
     "name": "stdout",
     "output_type": "stream",
     "text": [
      "[[0 1 2 3]\n",
      " [3 4 5 6]\n",
      " [6 7 8 9]]\n",
      "[['0.0' '1.0' '2.0' '3.0']\n",
      " ['3.0' '4.0' '5.0' '6.0']\n",
      " ['6.0' '7.0' '8.0' '9.0']]\n"
     ]
    }
   ],
   "source": [
    "print( a.astype(int) )\n",
    "print( a.astype(str) )"
   ]
  },
  {
   "cell_type": "markdown",
   "id": "29750772",
   "metadata": {},
   "source": [
    "### Итерация по элементам массива:"
   ]
  },
  {
   "cell_type": "code",
   "execution_count": 22,
   "id": "cb94305a",
   "metadata": {},
   "outputs": [
    {
     "name": "stdout",
     "output_type": "stream",
     "text": [
      "[0. 1. 2. 3.]\n",
      "[3. 4. 5. 6.]\n",
      "[6. 7. 8. 9.]\n"
     ]
    }
   ],
   "source": [
    "for i in a:\n",
    "    print(i)"
   ]
  },
  {
   "cell_type": "markdown",
   "id": "e0583a5a",
   "metadata": {},
   "source": [
    "### Математические операции между массивами"
   ]
  },
  {
   "cell_type": "code",
   "execution_count": 27,
   "id": "c6c67bd3",
   "metadata": {},
   "outputs": [
    {
     "name": "stdout",
     "output_type": "stream",
     "text": [
      "[5 7 9]\n",
      "[-3 -3 -3]\n",
      "[ 4 10 18]\n",
      "[0.25 0.4  0.5 ]\n",
      "[1 4 9]\n"
     ]
    }
   ],
   "source": [
    "a = np.array([1 , 2 , 3])\n",
    "\n",
    "\n",
    "b = np.array([4 , 5 , 6])\n",
    "\n",
    "print(a + b)\n",
    "print(a - b)\n",
    "print(a * b)\n",
    "print(a / b)\n",
    "print(a ** 2)\n"
   ]
  },
  {
   "cell_type": "markdown",
   "id": "17384f3d",
   "metadata": {},
   "source": [
    "### Синус от всех элементов массива"
   ]
  },
  {
   "cell_type": "code",
   "execution_count": 28,
   "id": "66606ff1",
   "metadata": {},
   "outputs": [
    {
     "name": "stdout",
     "output_type": "stream",
     "text": [
      "[0.84147098 0.90929743 0.14112001]\n"
     ]
    }
   ],
   "source": [
    "print(np.sin(a))"
   ]
  },
  {
   "cell_type": "markdown",
   "id": "059e3161",
   "metadata": {},
   "source": [
    "### Сравнение массивов поэлементно"
   ]
  },
  {
   "cell_type": "code",
   "execution_count": 29,
   "id": "4f9c2b8c",
   "metadata": {},
   "outputs": [
    {
     "name": "stdout",
     "output_type": "stream",
     "text": [
      "[False False False]\n"
     ]
    }
   ],
   "source": [
    "print(a == b)"
   ]
  },
  {
   "cell_type": "markdown",
   "id": "57e6c1e2",
   "metadata": {},
   "source": [
    "### Сумма элементов массива, максимальный элемент массива, минимальный элемент массива, среднее значение элементов массива"
   ]
  },
  {
   "cell_type": "code",
   "execution_count": 30,
   "id": "f5c48af7",
   "metadata": {},
   "outputs": [
    {
     "data": {
      "text/plain": [
       "(15, 6, 4, 5.0)"
      ]
     },
     "execution_count": 30,
     "metadata": {},
     "output_type": "execute_result"
    }
   ],
   "source": [
    "b.sum(), b.max(), b.min(), b.mean()"
   ]
  },
  {
   "cell_type": "markdown",
   "id": "05e2939d",
   "metadata": {},
   "source": [
    "### Сортировка массива"
   ]
  },
  {
   "cell_type": "code",
   "execution_count": 33,
   "id": "6e7d3057",
   "metadata": {},
   "outputs": [
    {
     "name": "stdout",
     "output_type": "stream",
     "text": [
      "[6 5 4]\n",
      "[4 5 6]\n"
     ]
    }
   ],
   "source": [
    "print( b[::-1] )\n",
    "print( np.sort(b[::-1]) )"
   ]
  },
  {
   "cell_type": "markdown",
   "id": "04b53426",
   "metadata": {},
   "source": [
    "### Удаление элемента массива с указанным индексом"
   ]
  },
  {
   "cell_type": "code",
   "execution_count": 35,
   "id": "5e7edb04",
   "metadata": {},
   "outputs": [
    {
     "name": "stdout",
     "output_type": "stream",
     "text": [
      "[1 2 3]\n",
      "[1 2]\n"
     ]
    }
   ],
   "source": [
    "print(a)\n",
    "a = np.delete(a, [2])\n",
    "print(a)"
   ]
  },
  {
   "cell_type": "markdown",
   "id": "a0e3872c",
   "metadata": {},
   "source": [
    "### Добавление указанного элемента в массив на указанную позицию"
   ]
  },
  {
   "cell_type": "code",
   "execution_count": 40,
   "id": "5bca0917",
   "metadata": {},
   "outputs": [
    {
     "name": "stdout",
     "output_type": "stream",
     "text": [
      "[1 2 3]\n"
     ]
    }
   ],
   "source": [
    "a = np.insert(a, 2, [3])\n",
    "print(a)"
   ]
  },
  {
   "cell_type": "markdown",
   "id": "d6817a48",
   "metadata": {},
   "source": [
    "### Обращение к элементам массива в указанных пределах"
   ]
  },
  {
   "cell_type": "code",
   "execution_count": 44,
   "id": "917b777e",
   "metadata": {},
   "outputs": [
    {
     "name": "stdout",
     "output_type": "stream",
     "text": [
      "[2]\n"
     ]
    }
   ],
   "source": [
    "b = a[1:2]\n",
    "print(b)"
   ]
  },
  {
   "cell_type": "markdown",
   "id": "c6a83e3a",
   "metadata": {},
   "source": [
    "### При переприсвоении значения нового массива перепроисвоится значение и родительского массива"
   ]
  },
  {
   "cell_type": "code",
   "execution_count": 45,
   "id": "cafe3fda",
   "metadata": {},
   "outputs": [
    {
     "name": "stdout",
     "output_type": "stream",
     "text": [
      "[ 1 99  3]\n",
      "[99]\n"
     ]
    }
   ],
   "source": [
    "b[0] = 99\n",
    "print(a)\n",
    "print(b)"
   ]
  },
  {
   "cell_type": "markdown",
   "id": "a5543395",
   "metadata": {},
   "source": [
    "### Если необходимо создать массив из выбранных элементов и изменять его независимо от родительского массива, используется копирование"
   ]
  },
  {
   "cell_type": "code",
   "execution_count": 48,
   "id": "eac5d7dd",
   "metadata": {},
   "outputs": [
    {
     "name": "stdout",
     "output_type": "stream",
     "text": [
      "[1, 2, 3, 4, 5, 6, 7, 8, 9]\n",
      "[99, 2, 3, 4, 5, 6, 7, 8, 9]\n"
     ]
    }
   ],
   "source": [
    "a = [1 , 2 , 3 , 4 , 5 , 6 , 7 , 8 , 9]\n",
    "b = a.copy()\n",
    "b[0]=99\n",
    "print(a)\n",
    "print(b)"
   ]
  },
  {
   "cell_type": "markdown",
   "id": "a65d328d",
   "metadata": {},
   "source": [
    "### Обращение к элементам массива с шагом"
   ]
  },
  {
   "cell_type": "code",
   "execution_count": 49,
   "id": "4b4634d1",
   "metadata": {},
   "outputs": [
    {
     "name": "stdout",
     "output_type": "stream",
     "text": [
      "[2, 4, 6, 8]\n"
     ]
    }
   ],
   "source": [
    "b = a[1:10:2]\n",
    "print(b)"
   ]
  },
  {
   "cell_type": "markdown",
   "id": "35ab6b9b",
   "metadata": {},
   "source": [
    "### Изменение текущей формы массива на заданную"
   ]
  },
  {
   "cell_type": "code",
   "execution_count": 65,
   "id": "eede51d8",
   "metadata": {},
   "outputs": [
    {
     "name": "stdout",
     "output_type": "stream",
     "text": [
      "[[1 2]\n",
      " [3 4]]\n",
      "(2, 2)\n",
      "\n",
      "[[1 2 3 4]]\n",
      "(1, 4)\n"
     ]
    }
   ],
   "source": [
    "a = np.array([\n",
    "            [ 1 , 2 ],\n",
    "            [ 3 , 4]\n",
    "             ])\n",
    "print(a)\n",
    "print(a.shape)\n",
    "\n",
    "print()\n",
    "\n",
    "a = a.reshape(1,4)\n",
    "print(a)\n",
    "print(a.shape)"
   ]
  },
  {
   "cell_type": "markdown",
   "id": "9c4a6026",
   "metadata": {},
   "source": [
    "### Уменьшение размерности формы массива"
   ]
  },
  {
   "cell_type": "code",
   "execution_count": 66,
   "id": "ba25a042",
   "metadata": {},
   "outputs": [
    {
     "name": "stdout",
     "output_type": "stream",
     "text": [
      "[1 2 3 4]\n",
      "(4,)\n"
     ]
    }
   ],
   "source": [
    "a = a.reshape(2,2)\n",
    "a = a.reshape(-1)\n",
    "print(a)\n",
    "print(a.shape)"
   ]
  },
  {
   "cell_type": "markdown",
   "id": "6c6947a5",
   "metadata": {},
   "source": [
    "### Объединение массивов горизонтально"
   ]
  },
  {
   "cell_type": "code",
   "execution_count": 68,
   "id": "977ddf97",
   "metadata": {},
   "outputs": [
    {
     "name": "stdout",
     "output_type": "stream",
     "text": [
      "[1 2 3 4 5 6]\n"
     ]
    }
   ],
   "source": [
    "a = np.array([ 1 , 2 , 3])\n",
    "b = np.array([ 4 , 5 , 6])\n",
    "\n",
    "print(np.hstack((a, b)))"
   ]
  },
  {
   "cell_type": "markdown",
   "id": "4fafc078",
   "metadata": {},
   "source": [
    "### Объединение массивов вертикально "
   ]
  },
  {
   "cell_type": "code",
   "execution_count": 72,
   "id": "a47f85c8",
   "metadata": {},
   "outputs": [
    {
     "data": {
      "text/plain": [
       "array([[1, 2, 3],\n",
       "       [4, 5, 6]])"
      ]
     },
     "execution_count": 72,
     "metadata": {},
     "output_type": "execute_result"
    }
   ],
   "source": [
    "np.vstack((a, b))"
   ]
  },
  {
   "cell_type": "markdown",
   "id": "5d4a2a11",
   "metadata": {},
   "source": [
    "### Сохранение массива данных в текстовый файл с указанным разделителем"
   ]
  },
  {
   "cell_type": "code",
   "execution_count": 77,
   "id": "df13dc88",
   "metadata": {},
   "outputs": [],
   "source": [
    "np.savetxt('example.txt', a, delimiter=';')"
   ]
  },
  {
   "cell_type": "markdown",
   "id": "5da25ac9",
   "metadata": {},
   "source": [
    "### Загрузка массива данных из указанного файла с указанным разделителем"
   ]
  },
  {
   "cell_type": "code",
   "execution_count": 76,
   "id": "c83f9fa1",
   "metadata": {},
   "outputs": [
    {
     "name": "stdout",
     "output_type": "stream",
     "text": [
      "[1. 2. 3.]\n"
     ]
    }
   ],
   "source": [
    "a = np.loadtxt('example.txt', delimiter=';')\n",
    "print(a)"
   ]
  },
  {
   "cell_type": "markdown",
   "id": "8b562900",
   "metadata": {},
   "source": [
    "# Решение СЛАУ"
   ]
  },
  {
   "cell_type": "code",
   "execution_count": 78,
   "id": "29bc5ee6",
   "metadata": {},
   "outputs": [
    {
     "data": {
      "text/plain": [
       "array([6., 1.])"
      ]
     },
     "execution_count": 78,
     "metadata": {},
     "output_type": "execute_result"
    }
   ],
   "source": [
    "left = np.array( [ [1, 3], [2, -4] ] )\n",
    "right = np.array( [9, 8] )\n",
    "np.linalg.solve(left, right)"
   ]
  },
  {
   "cell_type": "markdown",
   "id": "9223d104",
   "metadata": {},
   "source": [
    "### Разделение указанного предложения на слова по заданному разделителю"
   ]
  },
  {
   "cell_type": "code",
   "execution_count": 82,
   "id": "c57e8867",
   "metadata": {},
   "outputs": [
    {
     "name": "stdout",
     "output_type": "stream",
     "text": [
      "['Раз' 'два' 'три' 'четыре']\n",
      "['One' 'two' 'three' 'four']\n"
     ]
    }
   ],
   "source": [
    "a = np.array('Раз два три четыре'.split(' '))\n",
    "b = np.array('One two three four'.split(' '))\n",
    "print(a)\n",
    "print(b)"
   ]
  },
  {
   "cell_type": "markdown",
   "id": "28fe58a6",
   "metadata": {},
   "source": [
    "### Замена первых букв на заглавные, всех букв на заглавные и всех букв на прописные"
   ]
  },
  {
   "cell_type": "code",
   "execution_count": 84,
   "id": "492855c7",
   "metadata": {},
   "outputs": [
    {
     "name": "stdout",
     "output_type": "stream",
     "text": [
      "['Раз' 'Два' 'Три' 'Четыре']\n",
      "['РАЗ' 'ДВА' 'ТРИ' 'ЧЕТЫРЕ']\n",
      "['раз' 'два' 'три' 'четыре']\n"
     ]
    }
   ],
   "source": [
    "print(np.char.capitalize(a))\n",
    "print(np.char.upper(a))\n",
    "print(np.char.lower(a))"
   ]
  },
  {
   "cell_type": "markdown",
   "id": "4551e464",
   "metadata": {},
   "source": [
    "### Конкатенация двух массивов строк и массива строки с заданным символом"
   ]
  },
  {
   "cell_type": "code",
   "execution_count": 86,
   "id": "d67d5bac",
   "metadata": {},
   "outputs": [
    {
     "name": "stdout",
     "output_type": "stream",
     "text": [
      "['РазOne' 'дваtwo' 'триthree' 'четыреfour']\n",
      "['Раз_' 'два_' 'три_' 'четыре_']\n"
     ]
    }
   ],
   "source": [
    "print(np.char.add(a, b))\n",
    "print(np.char.add(a, '_'))"
   ]
  },
  {
   "cell_type": "markdown",
   "id": "99348b83",
   "metadata": {},
   "source": [
    "### Проверка на соответствие начала и конца каждой строки в массиве с указанными символами"
   ]
  },
  {
   "cell_type": "code",
   "execution_count": 87,
   "id": "cd4eec8c",
   "metadata": {},
   "outputs": [
    {
     "name": "stdout",
     "output_type": "stream",
     "text": [
      "[False  True  True False False False]\n",
      "[ True False  True False False False]\n"
     ]
    }
   ],
   "source": [
    "st = np.array(['One', 'two', 'three', 'four', '12', '-14'])\n",
    "\n",
    "print(np.char.startswith(st, 't'))\n",
    "print(np.char.endswith(st, 'e'))"
   ]
  },
  {
   "cell_type": "markdown",
   "id": "2cb300a6",
   "metadata": {},
   "source": [
    "### Количество указанных букв в каждой строке массива и проверка на то, является ли строка числом"
   ]
  },
  {
   "cell_type": "code",
   "execution_count": 89,
   "id": "66e98142",
   "metadata": {},
   "outputs": [
    {
     "name": "stdout",
     "output_type": "stream",
     "text": [
      "[1 0 2 0 0 0]\n",
      "[False False False False  True False]\n"
     ]
    }
   ],
   "source": [
    "print(np.char.count(st, 'e'))\n",
    "\n",
    "print(np.char.isdigit(st))"
   ]
  },
  {
   "cell_type": "markdown",
   "id": "ea16610c",
   "metadata": {},
   "source": [
    "# Домашнее задание"
   ]
  },
  {
   "cell_type": "code",
   "execution_count": null,
   "id": "112bd947",
   "metadata": {},
   "outputs": [],
   "source": []
  },
  {
   "cell_type": "code",
   "execution_count": null,
   "id": "00f79f26",
   "metadata": {},
   "outputs": [],
   "source": []
  },
  {
   "cell_type": "code",
   "execution_count": null,
   "id": "8dda6bd5",
   "metadata": {},
   "outputs": [],
   "source": []
  },
  {
   "cell_type": "code",
   "execution_count": null,
   "id": "699543e6",
   "metadata": {},
   "outputs": [],
   "source": []
  },
  {
   "cell_type": "code",
   "execution_count": null,
   "id": "9d7fa2ca",
   "metadata": {},
   "outputs": [],
   "source": []
  },
  {
   "cell_type": "code",
   "execution_count": null,
   "id": "c96125ec",
   "metadata": {},
   "outputs": [],
   "source": []
  },
  {
   "cell_type": "code",
   "execution_count": null,
   "id": "972f9236",
   "metadata": {},
   "outputs": [],
   "source": []
  }
 ],
 "metadata": {
  "kernelspec": {
   "display_name": "Python 3 (ipykernel)",
   "language": "python",
   "name": "python3"
  },
  "language_info": {
   "codemirror_mode": {
    "name": "ipython",
    "version": 3
   },
   "file_extension": ".py",
   "mimetype": "text/x-python",
   "name": "python",
   "nbconvert_exporter": "python",
   "pygments_lexer": "ipython3",
   "version": "3.7.11"
  }
 },
 "nbformat": 4,
 "nbformat_minor": 5
}
