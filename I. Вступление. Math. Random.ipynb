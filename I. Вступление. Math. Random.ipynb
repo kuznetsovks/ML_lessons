{
 "cells": [
  {
   "cell_type": "markdown",
   "id": "6fe3fe77",
   "metadata": {},
   "source": [
    "# Создание виртуальной среды"
   ]
  },
  {
   "cell_type": "markdown",
   "id": "7a164aae",
   "metadata": {},
   "source": [
    "### 1. Открываем Anaconda Prompt "
   ]
  },
  {
   "cell_type": "markdown",
   "id": "61a1462f",
   "metadata": {},
   "source": [
    "### 2. Устанавливаем библиотеку virtualenv"
   ]
  },
  {
   "cell_type": "markdown",
   "id": "431d2d13",
   "metadata": {},
   "source": [
    "pip install --user virtualenv"
   ]
  },
  {
   "cell_type": "markdown",
   "id": "1c5a3501",
   "metadata": {},
   "source": [
    "### 3. Создаем виртуальную среду с именем myenv"
   ]
  },
  {
   "cell_type": "markdown",
   "id": "661aa382",
   "metadata": {},
   "source": [
    "conda create -n myenv"
   ]
  },
  {
   "cell_type": "markdown",
   "id": "9243de43",
   "metadata": {},
   "source": [
    "### 4. Активируем виртуальную среду"
   ]
  },
  {
   "cell_type": "markdown",
   "id": "a0e1a239",
   "metadata": {},
   "source": [
    "conda activate myenv"
   ]
  },
  {
   "cell_type": "markdown",
   "id": "6eeabf48",
   "metadata": {},
   "source": [
    "### 5. Устанавливаем внутри новой среды библиотеку ipykernel для добавления в юпитер"
   ]
  },
  {
   "cell_type": "markdown",
   "id": "a193bbe5",
   "metadata": {},
   "source": [
    "pip install --user ipykernel"
   ]
  },
  {
   "cell_type": "markdown",
   "id": "901f8b76",
   "metadata": {},
   "source": [
    "### 6. Устанавливаем в юпитер виртуальную среду "
   ]
  },
  {
   "cell_type": "markdown",
   "id": "e2bf24dc",
   "metadata": {},
   "source": [
    "python -m ipykernel install --user --name=myenv"
   ]
  },
  {
   "cell_type": "markdown",
   "id": "db627edd",
   "metadata": {},
   "source": [
    "### Если необходимо деактивировать среду "
   ]
  },
  {
   "cell_type": "markdown",
   "id": "b9eebb07",
   "metadata": {},
   "source": [
    "conda deactivate myenv"
   ]
  },
  {
   "cell_type": "markdown",
   "id": "26ecc12d",
   "metadata": {},
   "source": [
    "### Если необходимо удалить виртуальную среду"
   ]
  },
  {
   "cell_type": "markdown",
   "id": "5d52c1fd",
   "metadata": {},
   "source": [
    "conda env remove -n myenv"
   ]
  },
  {
   "cell_type": "markdown",
   "id": "4a0b679a",
   "metadata": {},
   "source": [
    "# Основы работы с языком Python. Часть 2."
   ]
  },
  {
   "cell_type": "markdown",
   "id": "6a2f83e7",
   "metadata": {},
   "source": [
    "### Работа со строками"
   ]
  },
  {
   "cell_type": "code",
   "execution_count": 95,
   "id": "08a61d42",
   "metadata": {},
   "outputs": [
    {
     "name": "stdout",
     "output_type": "stream",
     "text": [
      "Hello world 5\n",
      "\n",
      "Hello world \n",
      " 5\n",
      "\n",
      "Hello world \t 5\n",
      "\n",
      "Hello\n",
      "      world 5\n"
     ]
    }
   ],
   "source": [
    "print(\"Hello world\",5)\n",
    "print()\n",
    "print(\"Hello world \\n\",5)\n",
    "print()\n",
    "print(\"Hello world \\t\",5)\n",
    "print()\n",
    "print(\"\"\"Hello\n",
    "      world\"\"\",5)\n"
   ]
  },
  {
   "cell_type": "markdown",
   "id": "6d61fc25",
   "metadata": {},
   "source": [
    "### Сложение строк"
   ]
  },
  {
   "cell_type": "code",
   "execution_count": 115,
   "id": "ab591927",
   "metadata": {},
   "outputs": [
    {
     "name": "stdout",
     "output_type": "stream",
     "text": [
      "Hello World\n"
     ]
    }
   ],
   "source": [
    "a = \"Hello \"\n",
    "b = \"World\"\n",
    "s = a + b\n",
    "print(s)"
   ]
  },
  {
   "cell_type": "markdown",
   "id": "4dd2b1fc",
   "metadata": {},
   "source": [
    "### Дублирование строки"
   ]
  },
  {
   "cell_type": "code",
   "execution_count": 116,
   "id": "102c4490",
   "metadata": {},
   "outputs": [
    {
     "data": {
      "text/plain": [
       "'Hello Hello Hello '"
      ]
     },
     "execution_count": 116,
     "metadata": {},
     "output_type": "execute_result"
    }
   ],
   "source": [
    "a*3"
   ]
  },
  {
   "cell_type": "markdown",
   "id": "57cff371",
   "metadata": {},
   "source": [
    "### Количество символов в строке"
   ]
  },
  {
   "cell_type": "code",
   "execution_count": 117,
   "id": "d5d91598",
   "metadata": {},
   "outputs": [
    {
     "data": {
      "text/plain": [
       "6"
      ]
     },
     "execution_count": 117,
     "metadata": {},
     "output_type": "execute_result"
    }
   ],
   "source": [
    "len(a)"
   ]
  },
  {
   "cell_type": "markdown",
   "id": "b5fcd675",
   "metadata": {},
   "source": [
    "### Поиск позиции строки, с которой начинается указанная подстрока"
   ]
  },
  {
   "cell_type": "code",
   "execution_count": 118,
   "id": "9ec9d9be",
   "metadata": {},
   "outputs": [
    {
     "data": {
      "text/plain": [
       "6"
      ]
     },
     "execution_count": 118,
     "metadata": {},
     "output_type": "execute_result"
    }
   ],
   "source": [
    "s.find(b)"
   ]
  },
  {
   "cell_type": "markdown",
   "id": "51445efc",
   "metadata": {},
   "source": [
    "### Перевод в указанный регистр"
   ]
  },
  {
   "cell_type": "code",
   "execution_count": 119,
   "id": "1f8c97a4",
   "metadata": {},
   "outputs": [
    {
     "name": "stdout",
     "output_type": "stream",
     "text": [
      "HELLO WORLD\n",
      "hello world\n"
     ]
    }
   ],
   "source": [
    "print( s.upper() )\n",
    "print( s.lower() )"
   ]
  },
  {
   "cell_type": "markdown",
   "id": "b0ea9a62",
   "metadata": {},
   "source": [
    "### Проверка, начинается ли строка с указанной подстроки либо заканчивается ли строка указанной подстрокой"
   ]
  },
  {
   "cell_type": "code",
   "execution_count": 120,
   "id": "017950a1",
   "metadata": {},
   "outputs": [
    {
     "data": {
      "text/plain": [
       "True"
      ]
     },
     "execution_count": 120,
     "metadata": {},
     "output_type": "execute_result"
    }
   ],
   "source": [
    "a.startswith('Hel')"
   ]
  },
  {
   "cell_type": "code",
   "execution_count": 121,
   "id": "3b619a6b",
   "metadata": {},
   "outputs": [
    {
     "data": {
      "text/plain": [
       "True"
      ]
     },
     "execution_count": 121,
     "metadata": {},
     "output_type": "execute_result"
    }
   ],
   "source": [
    "s.endswith('d')"
   ]
  },
  {
   "cell_type": "markdown",
   "id": "0864f914",
   "metadata": {},
   "source": [
    "### Разбиение строки указанным разделителем"
   ]
  },
  {
   "cell_type": "code",
   "execution_count": 123,
   "id": "6f0f5cd5",
   "metadata": {},
   "outputs": [
    {
     "data": {
      "text/plain": [
       "['Hello', 'World']"
      ]
     },
     "execution_count": 123,
     "metadata": {},
     "output_type": "execute_result"
    }
   ],
   "source": [
    "n = s.split(\" \")\n",
    "n"
   ]
  },
  {
   "cell_type": "markdown",
   "id": "922cede4",
   "metadata": {},
   "source": [
    "### Объединение массива строк указанным символом"
   ]
  },
  {
   "cell_type": "code",
   "execution_count": 127,
   "id": "1e0b653e",
   "metadata": {},
   "outputs": [
    {
     "data": {
      "text/plain": [
       "'Hello&World'"
      ]
     },
     "execution_count": 127,
     "metadata": {},
     "output_type": "execute_result"
    }
   ],
   "source": [
    "'&'.join(n) "
   ]
  },
  {
   "cell_type": "markdown",
   "id": "4613b82f",
   "metadata": {},
   "source": [
    "### Форматирование строки"
   ]
  },
  {
   "cell_type": "code",
   "execution_count": 128,
   "id": "0997a790",
   "metadata": {},
   "outputs": [
    {
     "data": {
      "text/plain": [
       "'One + Two = Three'"
      ]
     },
     "execution_count": 128,
     "metadata": {},
     "output_type": "execute_result"
    }
   ],
   "source": [
    "'{} + {} = {}'.format('One', 'Two', 'Three') "
   ]
  },
  {
   "cell_type": "code",
   "execution_count": 130,
   "id": "213d859f",
   "metadata": {},
   "outputs": [
    {
     "data": {
      "text/plain": [
       "'Hello  World  World  Hello '"
      ]
     },
     "execution_count": 130,
     "metadata": {},
     "output_type": "execute_result"
    }
   ],
   "source": [
    "\"{0} {1} {1} {0}\".format('Hello ','World ')"
   ]
  },
  {
   "cell_type": "code",
   "execution_count": 131,
   "id": "3ebbfcc7",
   "metadata": {},
   "outputs": [
    {
     "data": {
      "text/plain": [
       "'Леонардо Да Винчи'"
      ]
     },
     "execution_count": 131,
     "metadata": {},
     "output_type": "execute_result"
    }
   ],
   "source": [
    "\"{first_name} {second_name} {third_name}\".format(first_name = \"Леонардо\", second_name = \"Да\", third_name = \"Винчи\")"
   ]
  },
  {
   "cell_type": "markdown",
   "id": "49c51aa2",
   "metadata": {},
   "source": [
    "### Работа со списками"
   ]
  },
  {
   "cell_type": "code",
   "execution_count": 133,
   "id": "b99575c2",
   "metadata": {},
   "outputs": [
    {
     "data": {
      "text/plain": [
       "['С', 'т', 'р', 'о', 'к', 'а']"
      ]
     },
     "execution_count": 133,
     "metadata": {},
     "output_type": "execute_result"
    }
   ],
   "source": [
    "first_list = list('Строка')\n",
    "first_list"
   ]
  },
  {
   "cell_type": "code",
   "execution_count": 134,
   "id": "9c1f1c9f",
   "metadata": {},
   "outputs": [
    {
     "data": {
      "text/plain": [
       "[0, 1, 2, 3, 4, 5, 6]"
      ]
     },
     "execution_count": 134,
     "metadata": {},
     "output_type": "execute_result"
    }
   ],
   "source": [
    "second_list = list(range(7))\n",
    "second_list"
   ]
  },
  {
   "cell_type": "code",
   "execution_count": 135,
   "id": "ecb8fc90",
   "metadata": {},
   "outputs": [
    {
     "data": {
      "text/plain": [
       "(0, 6)"
      ]
     },
     "execution_count": 135,
     "metadata": {},
     "output_type": "execute_result"
    }
   ],
   "source": [
    "second_list[0], second_list[-1]"
   ]
  },
  {
   "cell_type": "code",
   "execution_count": 140,
   "id": "63569454",
   "metadata": {},
   "outputs": [
    {
     "data": {
      "text/plain": [
       "([3, 4], [2])"
      ]
     },
     "execution_count": 140,
     "metadata": {},
     "output_type": "execute_result"
    }
   ],
   "source": [
    "second_list[3:5], second_list[-5:3]"
   ]
  },
  {
   "cell_type": "code",
   "execution_count": 141,
   "id": "be166552",
   "metadata": {},
   "outputs": [
    {
     "data": {
      "text/plain": [
       "[6, 5, 4, 3, 2, 1, 0]"
      ]
     },
     "execution_count": 141,
     "metadata": {},
     "output_type": "execute_result"
    }
   ],
   "source": [
    "second_list[::-1]"
   ]
  },
  {
   "cell_type": "markdown",
   "id": "181e807f",
   "metadata": {},
   "source": [
    "### Генераторы списков"
   ]
  },
  {
   "cell_type": "code",
   "execution_count": 143,
   "id": "9c4ff7e3",
   "metadata": {},
   "outputs": [
    {
     "data": {
      "text/plain": [
       "[0, 1, 2, 3, 4, 5, 6, 7, 8, 9]"
      ]
     },
     "execution_count": 143,
     "metadata": {},
     "output_type": "execute_result"
    }
   ],
   "source": [
    "third_list = [i for i in range(10)]\n",
    "third_list"
   ]
  },
  {
   "cell_type": "code",
   "execution_count": 144,
   "id": "383bf098",
   "metadata": {},
   "outputs": [
    {
     "data": {
      "text/plain": [
       "[2, 2, 2, 2, 2, 2, 2, 2, 2, 2]"
      ]
     },
     "execution_count": 144,
     "metadata": {},
     "output_type": "execute_result"
    }
   ],
   "source": [
    "third_list = [2 for i in range(10)]\n",
    "third_list"
   ]
  },
  {
   "cell_type": "code",
   "execution_count": 146,
   "id": "d9e9330e",
   "metadata": {},
   "outputs": [
    {
     "data": {
      "text/plain": [
       "[0, 1, 4, 9, 16, 25, 36, 49, 64, 81]"
      ]
     },
     "execution_count": 146,
     "metadata": {},
     "output_type": "execute_result"
    }
   ],
   "source": [
    "third_list = [i ** 2 for i in range(10)]\n",
    "third_list"
   ]
  },
  {
   "cell_type": "markdown",
   "id": "fb0944bd",
   "metadata": {},
   "source": [
    "### Методы списков"
   ]
  },
  {
   "cell_type": "code",
   "execution_count": 153,
   "id": "3300ffb1",
   "metadata": {},
   "outputs": [
    {
     "data": {
      "text/plain": [
       "[256]"
      ]
     },
     "execution_count": 153,
     "metadata": {},
     "output_type": "execute_result"
    }
   ],
   "source": [
    "fourth_list = list([])\n",
    "fourth_list.append(256)\n",
    "fourth_list"
   ]
  },
  {
   "cell_type": "code",
   "execution_count": 154,
   "id": "34ecb486",
   "metadata": {},
   "outputs": [
    {
     "data": {
      "text/plain": [
       "[]"
      ]
     },
     "execution_count": 154,
     "metadata": {},
     "output_type": "execute_result"
    }
   ],
   "source": [
    "fourth_list.remove(256)\n",
    "fourth_list"
   ]
  },
  {
   "cell_type": "code",
   "execution_count": 158,
   "id": "3690543b",
   "metadata": {},
   "outputs": [
    {
     "data": {
      "text/plain": [
       "[-1, 1, 2, 3, 4, 5]"
      ]
     },
     "execution_count": 158,
     "metadata": {},
     "output_type": "execute_result"
    }
   ],
   "source": [
    "fourth_list = [1,2,3,4,5]\n",
    "fourth_list.insert(0,-1)\n",
    "fourth_list"
   ]
  },
  {
   "cell_type": "code",
   "execution_count": 161,
   "id": "0113803b",
   "metadata": {},
   "outputs": [
    {
     "data": {
      "text/plain": [
       "1"
      ]
     },
     "execution_count": 161,
     "metadata": {},
     "output_type": "execute_result"
    }
   ],
   "source": [
    "fourth_list.count(-1)"
   ]
  },
  {
   "cell_type": "code",
   "execution_count": 164,
   "id": "b608f74d",
   "metadata": {},
   "outputs": [
    {
     "data": {
      "text/plain": [
       "[5, 4, 3, 2, 1, -1]"
      ]
     },
     "execution_count": 164,
     "metadata": {},
     "output_type": "execute_result"
    }
   ],
   "source": [
    "fourth_list.sort(reverse=True)\n",
    "fourth_list"
   ]
  },
  {
   "cell_type": "markdown",
   "id": "78701e02",
   "metadata": {},
   "source": [
    "### Кортежи (Tuple)"
   ]
  },
  {
   "cell_type": "code",
   "execution_count": 167,
   "id": "b81129f9",
   "metadata": {},
   "outputs": [
    {
     "data": {
      "text/plain": [
       "(1, 2, 3)"
      ]
     },
     "execution_count": 167,
     "metadata": {},
     "output_type": "execute_result"
    }
   ],
   "source": [
    "lst = [1,2,3]# list\n",
    "tup = (1,2,3)# tuple\n",
    "tup"
   ]
  },
  {
   "cell_type": "code",
   "execution_count": 169,
   "id": "df433eeb",
   "metadata": {},
   "outputs": [
    {
     "data": {
      "text/plain": [
       "{1: 'a', (2, 3): 'b'}"
      ]
     },
     "execution_count": 169,
     "metadata": {},
     "output_type": "execute_result"
    }
   ],
   "source": [
    "dct = {1: 'a', (2, 3): 'b'}\n",
    "dct"
   ]
  },
  {
   "cell_type": "code",
   "execution_count": 170,
   "id": "4553434a",
   "metadata": {},
   "outputs": [
    {
     "data": {
      "text/plain": [
       "(1, 2, 3)"
      ]
     },
     "execution_count": 170,
     "metadata": {},
     "output_type": "execute_result"
    }
   ],
   "source": [
    "tup = tuple(lst)\n",
    "tup"
   ]
  },
  {
   "cell_type": "code",
   "execution_count": 175,
   "id": "58d577f5",
   "metadata": {},
   "outputs": [
    {
     "name": "stdout",
     "output_type": "stream",
     "text": [
      "1 c\n",
      "c 1\n"
     ]
    }
   ],
   "source": [
    "a, b = (1, 'c') \n",
    "print(a,b)\n",
    "a, b = b, a\n",
    "print(a,b)"
   ]
  },
  {
   "cell_type": "markdown",
   "id": "9f6e2fc8",
   "metadata": {},
   "source": [
    "### Словари "
   ]
  },
  {
   "cell_type": "code",
   "execution_count": 177,
   "id": "7f109bc1",
   "metadata": {},
   "outputs": [
    {
     "data": {
      "text/plain": [
       "{'a': 2, 'b': 3}"
      ]
     },
     "execution_count": 177,
     "metadata": {},
     "output_type": "execute_result"
    }
   ],
   "source": [
    "dict1 = {'a':2, 'b':3}\n",
    "dict1"
   ]
  },
  {
   "cell_type": "code",
   "execution_count": 179,
   "id": "3144cd58",
   "metadata": {},
   "outputs": [
    {
     "data": {
      "text/plain": [
       "{'a': [2, 3], 'b': [3, 4]}"
      ]
     },
     "execution_count": 179,
     "metadata": {},
     "output_type": "execute_result"
    }
   ],
   "source": [
    "dict1 = {'a':[2,3], 'b':[3,4]}\n",
    "dict1"
   ]
  },
  {
   "cell_type": "code",
   "execution_count": 181,
   "id": "bf58f757",
   "metadata": {},
   "outputs": [
    {
     "data": {
      "text/plain": [
       "{'a': 2, 'b': 3}"
      ]
     },
     "execution_count": 181,
     "metadata": {},
     "output_type": "execute_result"
    }
   ],
   "source": [
    "dict1 = dict(a=2,b=3)\n",
    "dict1"
   ]
  },
  {
   "cell_type": "code",
   "execution_count": 184,
   "id": "5de0022d",
   "metadata": {},
   "outputs": [
    {
     "name": "stdout",
     "output_type": "stream",
     "text": [
      "2\n",
      "2\n"
     ]
    }
   ],
   "source": [
    "print(dict1.get('a'))\n",
    "print(dict1['a'])"
   ]
  },
  {
   "cell_type": "code",
   "execution_count": 188,
   "id": "894de3b1",
   "metadata": {},
   "outputs": [
    {
     "data": {
      "text/plain": [
       "dict_items([('a', 2), ('b', 3)])"
      ]
     },
     "execution_count": 188,
     "metadata": {},
     "output_type": "execute_result"
    }
   ],
   "source": [
    "dict1.items()"
   ]
  },
  {
   "cell_type": "code",
   "execution_count": 189,
   "id": "ec76044b",
   "metadata": {},
   "outputs": [
    {
     "data": {
      "text/plain": [
       "dict_keys(['a', 'b'])"
      ]
     },
     "execution_count": 189,
     "metadata": {},
     "output_type": "execute_result"
    }
   ],
   "source": [
    "dict1.keys()"
   ]
  },
  {
   "cell_type": "code",
   "execution_count": 190,
   "id": "1b96afe5",
   "metadata": {},
   "outputs": [
    {
     "data": {
      "text/plain": [
       "dict_values([2, 3])"
      ]
     },
     "execution_count": 190,
     "metadata": {},
     "output_type": "execute_result"
    }
   ],
   "source": [
    "dict1.values()"
   ]
  },
  {
   "cell_type": "markdown",
   "id": "9a19ad8c",
   "metadata": {},
   "source": [
    "### Работа с файлами "
   ]
  },
  {
   "cell_type": "code",
   "execution_count": 212,
   "id": "5853b7d4",
   "metadata": {},
   "outputs": [
    {
     "data": {
      "text/plain": [
       "'1.000000000000000000e+00\\n2.000000000000000000e+00\\n3.000000000000000000e+00\\n'"
      ]
     },
     "execution_count": 212,
     "metadata": {},
     "output_type": "execute_result"
    }
   ],
   "source": [
    "f = open('example.txt','r')\n",
    "f.read()"
   ]
  },
  {
   "cell_type": "code",
   "execution_count": 213,
   "id": "4bbb1f3b",
   "metadata": {},
   "outputs": [],
   "source": [
    "f.close()"
   ]
  },
  {
   "cell_type": "code",
   "execution_count": 223,
   "id": "27c4392b",
   "metadata": {},
   "outputs": [
    {
     "name": "stdout",
     "output_type": "stream",
     "text": [
      "1.000000000000000000e+00\n",
      "\n"
     ]
    }
   ],
   "source": [
    "with open('example.txt','r') as f:\n",
    "    print(f.readline())"
   ]
  },
  {
   "cell_type": "markdown",
   "id": "5a8e5e6a",
   "metadata": {},
   "source": [
    "### w - запись\n",
    "### r - чтение"
   ]
  },
  {
   "cell_type": "code",
   "execution_count": 227,
   "id": "ff0885f9",
   "metadata": {},
   "outputs": [
    {
     "name": "stdout",
     "output_type": "stream",
     "text": [
      "It is\n",
      "output\n",
      "\n"
     ]
    }
   ],
   "source": [
    "with open('out.txt', 'w') as f:\n",
    "    for s in ['It is\\n', 'output\\n']:\n",
    "        f.write(s)\n",
    "with open('out.txt', 'r') as f:\n",
    "    print(f.read())"
   ]
  },
  {
   "cell_type": "markdown",
   "id": "4dbcc842",
   "metadata": {},
   "source": [
    "### Исключения "
   ]
  },
  {
   "cell_type": "code",
   "execution_count": 1,
   "id": "965c15b7",
   "metadata": {},
   "outputs": [
    {
     "ename": "TypeError",
     "evalue": "unsupported operand type(s) for +: 'int' and 'str'",
     "output_type": "error",
     "traceback": [
      "\u001b[1;31m---------------------------------------------------------------------------\u001b[0m",
      "\u001b[1;31mTypeError\u001b[0m                                 Traceback (most recent call last)",
      "\u001b[1;32mC:\\Users\\AGENTS~1\\AppData\\Local\\Temp/ipykernel_11032/2369827484.py\u001b[0m in \u001b[0;36m<module>\u001b[1;34m\u001b[0m\n\u001b[1;32m----> 1\u001b[1;33m \u001b[1;36m1\u001b[0m\u001b[1;33m+\u001b[0m\u001b[1;34m'1'\u001b[0m\u001b[1;33m\u001b[0m\u001b[1;33m\u001b[0m\u001b[0m\n\u001b[0m",
      "\u001b[1;31mTypeError\u001b[0m: unsupported operand type(s) for +: 'int' and 'str'"
     ]
    }
   ],
   "source": [
    "1+'1'"
   ]
  },
  {
   "cell_type": "code",
   "execution_count": 2,
   "id": "ba2578e1",
   "metadata": {},
   "outputs": [],
   "source": [
    "try:\n",
    "    1+'1'\n",
    "except:\n",
    "    pass"
   ]
  },
  {
   "cell_type": "code",
   "execution_count": 7,
   "id": "d5b0e5a8",
   "metadata": {},
   "outputs": [
    {
     "ename": "TypeError",
     "evalue": "unsupported operand type(s) for +=: 'float' and 'str'",
     "output_type": "error",
     "traceback": [
      "\u001b[1;31m---------------------------------------------------------------------------\u001b[0m",
      "\u001b[1;31mTypeError\u001b[0m                                 Traceback (most recent call last)",
      "\u001b[1;32mC:\\Users\\AGENTS~1\\AppData\\Local\\Temp/ipykernel_11032/647067896.py\u001b[0m in \u001b[0;36m<module>\u001b[1;34m\u001b[0m\n\u001b[1;32m----> 1\u001b[1;33m \u001b[0ms\u001b[0m \u001b[1;33m+=\u001b[0m \u001b[1;34m'2'\u001b[0m\u001b[1;33m\u001b[0m\u001b[1;33m\u001b[0m\u001b[0m\n\u001b[0m\u001b[0;32m      2\u001b[0m \u001b[0ms\u001b[0m\u001b[1;33m\u001b[0m\u001b[1;33m\u001b[0m\u001b[0m\n",
      "\u001b[1;31mTypeError\u001b[0m: unsupported operand type(s) for +=: 'float' and 'str'"
     ]
    }
   ],
   "source": [
    "s += '2'\n",
    "s"
   ]
  },
  {
   "cell_type": "code",
   "execution_count": 14,
   "id": "acbb1dbe",
   "metadata": {},
   "outputs": [
    {
     "name": "stdout",
     "output_type": "stream",
     "text": [
      "2 is not number\n",
      "4 1\n"
     ]
    }
   ],
   "source": [
    "import math\n",
    "\n",
    "s = 4\n",
    "a = '2'\n",
    "b = 0\n",
    "\n",
    "for i in range(1):\n",
    "    try:\n",
    "        s += a \n",
    "    except TypeError:\n",
    "        print(a, 'is not number')\n",
    "    except Exception:\n",
    "        print('Неопределённая ошибка ')\n",
    "    else:\n",
    "        s += 1\n",
    "    finally:\n",
    "        b += 1\n",
    "print(s,b)"
   ]
  },
  {
   "cell_type": "markdown",
   "id": "f7709f76",
   "metadata": {},
   "source": [
    "### Множества (set)"
   ]
  },
  {
   "cell_type": "code",
   "execution_count": 194,
   "id": "ed5fdbbd",
   "metadata": {},
   "outputs": [
    {
     "name": "stdout",
     "output_type": "stream",
     "text": [
      "{1, 2, 3, 4, 5}\n",
      "{1, 2, 3, 4, 5}\n"
     ]
    }
   ],
   "source": [
    "set1 = {1 , 2 , 3 , 4 , 5}\n",
    "print(set1)\n",
    "set1 = set([1 , 2 , 3 , 4 , 5])\n",
    "print(set1)"
   ]
  },
  {
   "cell_type": "code",
   "execution_count": 195,
   "id": "8499120a",
   "metadata": {},
   "outputs": [
    {
     "data": {
      "text/plain": [
       "{1, 2, 3, 4, 5, 6}"
      ]
     },
     "execution_count": 195,
     "metadata": {},
     "output_type": "execute_result"
    }
   ],
   "source": [
    "set1.add(6)\n",
    "set1"
   ]
  },
  {
   "cell_type": "code",
   "execution_count": 197,
   "id": "13d9bbdf",
   "metadata": {},
   "outputs": [
    {
     "data": {
      "text/plain": [
       "{1, 2, 3, 4, 5, 6, 7, 8, 9}"
      ]
     },
     "execution_count": 197,
     "metadata": {},
     "output_type": "execute_result"
    }
   ],
   "source": [
    "set2 = {7,8,9}\n",
    "set1.update(set2)\n",
    "set1"
   ]
  },
  {
   "cell_type": "code",
   "execution_count": 199,
   "id": "5379b464",
   "metadata": {},
   "outputs": [
    {
     "name": "stdout",
     "output_type": "stream",
     "text": [
      "False\n",
      "True\n"
     ]
    }
   ],
   "source": [
    "print( set1.issubset(set2) )\n",
    "print( set2.issubset(set1) )"
   ]
  },
  {
   "cell_type": "code",
   "execution_count": 200,
   "id": "1a83875f",
   "metadata": {},
   "outputs": [
    {
     "data": {
      "text/plain": [
       "{7, 8, 9}"
      ]
     },
     "execution_count": 200,
     "metadata": {},
     "output_type": "execute_result"
    }
   ],
   "source": [
    "set1.intersection(set2)"
   ]
  },
  {
   "cell_type": "markdown",
   "id": "deb6c5f0",
   "metadata": {},
   "source": [
    "### Работа с функциями "
   ]
  },
  {
   "cell_type": "code",
   "execution_count": 201,
   "id": "477e1ec8",
   "metadata": {},
   "outputs": [
    {
     "data": {
      "text/plain": [
       "3"
      ]
     },
     "execution_count": 201,
     "metadata": {},
     "output_type": "execute_result"
    }
   ],
   "source": [
    "def f1( x, y ):\n",
    "    return x+y\n",
    "f1( 1 , 2 )"
   ]
  },
  {
   "cell_type": "code",
   "execution_count": 202,
   "id": "82d628d6",
   "metadata": {},
   "outputs": [
    {
     "data": {
      "text/plain": [
       "(3, -1)"
      ]
     },
     "execution_count": 202,
     "metadata": {},
     "output_type": "execute_result"
    }
   ],
   "source": [
    "def f2( x, y ):\n",
    "    return x+y, x-y\n",
    "a, b = f2( 1 , 2 )\n",
    "a,b"
   ]
  },
  {
   "cell_type": "code",
   "execution_count": 203,
   "id": "4e48f0ba",
   "metadata": {},
   "outputs": [
    {
     "data": {
      "text/plain": [
       "27"
      ]
     },
     "execution_count": 203,
     "metadata": {},
     "output_type": "execute_result"
    }
   ],
   "source": [
    "def f3(x):\n",
    "    def fsub(x):\n",
    "        return x**3\n",
    "    return fsub(x)\n",
    "f3(3)"
   ]
  },
  {
   "cell_type": "code",
   "execution_count": 204,
   "id": "1c2b1482",
   "metadata": {},
   "outputs": [
    {
     "name": "stdout",
     "output_type": "stream",
     "text": [
      "0.1\n",
      "0.314\n"
     ]
    }
   ],
   "source": [
    "def f4(r = 3.14):\n",
    "    return r/10\n",
    "print( f4(1) )\n",
    "print( f4() )"
   ]
  },
  {
   "cell_type": "code",
   "execution_count": 206,
   "id": "719e858a",
   "metadata": {},
   "outputs": [
    {
     "data": {
      "text/plain": [
       "(1, 28)"
      ]
     },
     "execution_count": 206,
     "metadata": {},
     "output_type": "execute_result"
    }
   ],
   "source": [
    "def f5(*args):\n",
    "    return sum(args)\n",
    "f5(1), f5(1,2,3,4,5,6,7)"
   ]
  },
  {
   "cell_type": "markdown",
   "id": "8300967e",
   "metadata": {},
   "source": [
    "### lambda "
   ]
  },
  {
   "cell_type": "code",
   "execution_count": 207,
   "id": "683ded45",
   "metadata": {},
   "outputs": [
    {
     "data": {
      "text/plain": [
       "4.5"
      ]
     },
     "execution_count": 207,
     "metadata": {},
     "output_type": "execute_result"
    }
   ],
   "source": [
    "f6 = lambda x,y : y**2/x\n",
    "f6(2,3)"
   ]
  },
  {
   "cell_type": "markdown",
   "id": "28473d7b",
   "metadata": {},
   "source": [
    "# Библиотека Math"
   ]
  },
  {
   "cell_type": "markdown",
   "id": "8c86b867",
   "metadata": {},
   "source": [
    "### Подключение библиотеки:"
   ]
  },
  {
   "cell_type": "code",
   "execution_count": 12,
   "id": "0c6e26ac",
   "metadata": {},
   "outputs": [],
   "source": [
    "import math"
   ]
  },
  {
   "cell_type": "markdown",
   "id": "edd24646",
   "metadata": {},
   "source": [
    "### Округление вверх и вниз:"
   ]
  },
  {
   "cell_type": "code",
   "execution_count": 13,
   "id": "c6053169",
   "metadata": {},
   "outputs": [
    {
     "name": "stdout",
     "output_type": "stream",
     "text": [
      "1\n",
      "0\n"
     ]
    }
   ],
   "source": [
    "d=0.3\n",
    "print(math.ceil(d))\n",
    "print(math.floor(d))"
   ]
  },
  {
   "cell_type": "markdown",
   "id": "5d4a2a12",
   "metadata": {},
   "source": [
    "### Тригонометрические функции:"
   ]
  },
  {
   "cell_type": "code",
   "execution_count": 10,
   "id": "4d0f1f5b",
   "metadata": {},
   "outputs": [
    {
     "data": {
      "text/plain": [
       "0.30933624960962325"
      ]
     },
     "execution_count": 10,
     "metadata": {},
     "output_type": "execute_result"
    }
   ],
   "source": [
    "math.sin(d)\n",
    "math.cos(d)\n",
    "math.tan(d)"
   ]
  },
  {
   "cell_type": "markdown",
   "id": "01e8521e",
   "metadata": {},
   "source": [
    "### arcsin,arccos:"
   ]
  },
  {
   "cell_type": "code",
   "execution_count": 14,
   "id": "06b98b8e",
   "metadata": {},
   "outputs": [
    {
     "data": {
      "text/plain": [
       "0.3046926540153975"
      ]
     },
     "execution_count": 14,
     "metadata": {},
     "output_type": "execute_result"
    }
   ],
   "source": [
    "math.acos(d)\n",
    "math.asin(d)"
   ]
  },
  {
   "cell_type": "markdown",
   "id": "9408eace",
   "metadata": {},
   "source": [
    "### Гиперболические функции:"
   ]
  },
  {
   "cell_type": "code",
   "execution_count": 15,
   "id": "5984707e",
   "metadata": {},
   "outputs": [
    {
     "data": {
      "text/plain": [
       "0.3045202934471426"
      ]
     },
     "execution_count": 15,
     "metadata": {},
     "output_type": "execute_result"
    }
   ],
   "source": [
    "math.tanh(d)\n",
    "math.sinh(d)"
   ]
  },
  {
   "cell_type": "markdown",
   "id": "7a39817d",
   "metadata": {},
   "source": [
    "### Константы:"
   ]
  },
  {
   "cell_type": "code",
   "execution_count": 16,
   "id": "a1321dc9",
   "metadata": {},
   "outputs": [
    {
     "data": {
      "text/plain": [
       "2.718281828459045"
      ]
     },
     "execution_count": 16,
     "metadata": {},
     "output_type": "execute_result"
    }
   ],
   "source": [
    "math.pi\n",
    "math.e"
   ]
  },
  {
   "cell_type": "markdown",
   "id": "726ee466",
   "metadata": {},
   "source": [
    "### Модуль:"
   ]
  },
  {
   "cell_type": "code",
   "execution_count": 20,
   "id": "073e7ac9",
   "metadata": {},
   "outputs": [
    {
     "name": "stdout",
     "output_type": "stream",
     "text": [
      "0.3\n",
      "0.3\n"
     ]
    }
   ],
   "source": [
    "print( abs(-d) )\n",
    "print( math.fabs(-d) )"
   ]
  },
  {
   "cell_type": "markdown",
   "id": "65e04254",
   "metadata": {},
   "source": [
    "# Библиотека Random"
   ]
  },
  {
   "cell_type": "markdown",
   "id": "0e981978",
   "metadata": {},
   "source": [
    "### Подключение:"
   ]
  },
  {
   "cell_type": "code",
   "execution_count": 95,
   "id": "f5415e02",
   "metadata": {},
   "outputs": [],
   "source": [
    "import random"
   ]
  },
  {
   "cell_type": "markdown",
   "id": "415662a5",
   "metadata": {},
   "source": [
    "### Генерация случайных чисел по одному и тому же сценарию:"
   ]
  },
  {
   "cell_type": "code",
   "execution_count": 40,
   "id": "fcfba786",
   "metadata": {},
   "outputs": [],
   "source": [
    "random.seed(123) "
   ]
  },
  {
   "cell_type": "markdown",
   "id": "f1b2b3b7",
   "metadata": {},
   "source": [
    "### Случайное целочисленное число из заданного интервала:"
   ]
  },
  {
   "cell_type": "code",
   "execution_count": 45,
   "id": "905a2fbd",
   "metadata": {},
   "outputs": [
    {
     "data": {
      "text/plain": [
       "1"
      ]
     },
     "execution_count": 45,
     "metadata": {},
     "output_type": "execute_result"
    }
   ],
   "source": [
    "a = 1\n",
    "b = 3\n",
    "\n",
    "random.randint(a , b)"
   ]
  },
  {
   "cell_type": "markdown",
   "id": "22434e0f",
   "metadata": {},
   "source": [
    "### Случайное целочисленное число из интервала a,b с шагом q "
   ]
  },
  {
   "cell_type": "code",
   "execution_count": 62,
   "id": "8658c426",
   "metadata": {},
   "outputs": [
    {
     "data": {
      "text/plain": [
       "5"
      ]
     },
     "execution_count": 62,
     "metadata": {},
     "output_type": "execute_result"
    }
   ],
   "source": [
    "a = 5\n",
    "b = 10\n",
    "q = 2\n",
    "random.randrange(a , b , q)"
   ]
  },
  {
   "cell_type": "markdown",
   "id": "000ee8d4",
   "metadata": {},
   "source": [
    "### Случайное число от 0 до 1 "
   ]
  },
  {
   "cell_type": "code",
   "execution_count": 63,
   "id": "7e4ba1a9",
   "metadata": {},
   "outputs": [
    {
     "data": {
      "text/plain": [
       "0.8212721244163999"
      ]
     },
     "execution_count": 63,
     "metadata": {},
     "output_type": "execute_result"
    }
   ],
   "source": [
    "random.random()"
   ]
  },
  {
   "cell_type": "markdown",
   "id": "e314af14",
   "metadata": {},
   "source": [
    "### Генерация случайного дробного числа в соответствии с равномерным распределением из интервала a,b"
   ]
  },
  {
   "cell_type": "code",
   "execution_count": 72,
   "id": "4b9e3215",
   "metadata": {},
   "outputs": [
    {
     "data": {
      "text/plain": [
       "12.646837185310673"
      ]
     },
     "execution_count": 72,
     "metadata": {},
     "output_type": "execute_result"
    }
   ],
   "source": [
    "a = 0.1\n",
    "b = 1000.0\n",
    "random.uniform(a , b)"
   ]
  },
  {
   "cell_type": "markdown",
   "id": "c56f63db",
   "metadata": {},
   "source": [
    "### Случайный выбор из списка в соответствии с равномерным распределением"
   ]
  },
  {
   "cell_type": "code",
   "execution_count": 73,
   "id": "52c6055f",
   "metadata": {},
   "outputs": [
    {
     "data": {
      "text/plain": [
       "5"
      ]
     },
     "execution_count": 73,
     "metadata": {},
     "output_type": "execute_result"
    }
   ],
   "source": [
    "c = [1 , 2 , 3 , 4 , 5]\n",
    "random.choice(c) "
   ]
  },
  {
   "cell_type": "markdown",
   "id": "e95e284f",
   "metadata": {},
   "source": [
    "### Случайное перемешивание списка"
   ]
  },
  {
   "cell_type": "code",
   "execution_count": 75,
   "id": "158eec64",
   "metadata": {},
   "outputs": [
    {
     "data": {
      "text/plain": [
       "[2, 5, 4, 1, 3]"
      ]
     },
     "execution_count": 75,
     "metadata": {},
     "output_type": "execute_result"
    }
   ],
   "source": [
    "random.shuffle(c)\n",
    "c"
   ]
  },
  {
   "cell_type": "markdown",
   "id": "ea16610c",
   "metadata": {},
   "source": [
    "# Домашнее задание"
   ]
  },
  {
   "cell_type": "code",
   "execution_count": null,
   "id": "112bd947",
   "metadata": {},
   "outputs": [],
   "source": []
  },
  {
   "cell_type": "code",
   "execution_count": null,
   "id": "0546c07a",
   "metadata": {},
   "outputs": [],
   "source": []
  },
  {
   "cell_type": "code",
   "execution_count": null,
   "id": "8c30726c",
   "metadata": {},
   "outputs": [],
   "source": []
  },
  {
   "cell_type": "code",
   "execution_count": null,
   "id": "09e18d71",
   "metadata": {},
   "outputs": [],
   "source": []
  },
  {
   "cell_type": "code",
   "execution_count": null,
   "id": "2291131c",
   "metadata": {},
   "outputs": [],
   "source": []
  },
  {
   "cell_type": "code",
   "execution_count": null,
   "id": "bc4e929b",
   "metadata": {},
   "outputs": [],
   "source": []
  },
  {
   "cell_type": "code",
   "execution_count": null,
   "id": "d33c69bd",
   "metadata": {},
   "outputs": [],
   "source": []
  }
 ],
 "metadata": {
  "kernelspec": {
   "display_name": "Python 3 (ipykernel)",
   "language": "python",
   "name": "python3"
  },
  "language_info": {
   "codemirror_mode": {
    "name": "ipython",
    "version": 3
   },
   "file_extension": ".py",
   "mimetype": "text/x-python",
   "name": "python",
   "nbconvert_exporter": "python",
   "pygments_lexer": "ipython3",
   "version": "3.7.11"
  }
 },
 "nbformat": 4,
 "nbformat_minor": 5
}
